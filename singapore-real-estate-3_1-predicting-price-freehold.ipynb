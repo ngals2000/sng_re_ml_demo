{
 "cells": [
  {
   "cell_type": "markdown",
   "metadata": {},
   "source": [
    "### Goal\n",
    "We are going to build a model for predicting a price for apartments and condominiums in Singapore.\n",
    "\n",
    "##### Task for the current workbook:\n",
    "- Build some models for predicting the price, based on the data prepared in the workbook 1 and the insights into the data in the workbook 2\n",
    "\n",
    "#### Strategy\n",
    "- Based on the analysis in the Workbook 2, we concluded that linear models are not suitable for this dataset because of significant non-linearities in the data.\n",
    "- Therefore, we will be using models which are more suitable for non-linear data, such as Decision Tree regression, Random forest regression, and artificial neural networks.\n",
    "- Using some variables such as project_name, street and postal_code will lead to high-dimensional binary vector spaces. We can use two strategies to deal with this:\n",
    "    - Try models without these variables. Latitude and longitude may partly [replace them]\n",
    "    - Use dimensionality reduction, e.g. PCA, and run the regressions on that data\n",
    "- Our data includes several years of observations. From the analysis we have seen that the prices have changed over the years. Therefore, we may test how robust the model is by choosing y1 as a train set and y2 as a test set"
   ]
  },
  {
   "cell_type": "markdown",
   "metadata": {},
   "source": [
    "#### Plan:\n",
    "- Use data cleaned from outliers\n",
    "- Numeric and geographical data only:\n",
    "    - Decision tree regression\n",
    "    - Random forest regression\n",
    "- All data:\n",
    "    - PCA:\n",
    "        - Generate principal components. Try different number of PC, make sure that explained_variance_ratio_ cummulative is sufficient (?)\n",
    "        - Decision tree regression\n",
    "        - Random forest regression\n",
    "    - ANN:\n",
    "        - Run ANN on all data"
   ]
  },
  {
   "cell_type": "markdown",
   "metadata": {},
   "source": [
    "### Importing data"
   ]
  },
  {
   "cell_type": "code",
   "execution_count": 4,
   "metadata": {},
   "outputs": [],
   "source": [
    "import pandas as pd\n",
    "import numpy as np\n",
    "\n",
    "data_path = \"data/\"\n",
    "# file_leases_no_outliers = \"2_lease_no_outliers.csv\" \n",
    "file_freehold_no_outliers = \"2_freehold_no_outliers.csv\" \n",
    "TRAIN_SIZE = 0.7"
   ]
  },
  {
   "cell_type": "code",
   "execution_count": 6,
   "metadata": {},
   "outputs": [],
   "source": [
    "df = pd.read_csv(data_path+file_freehold_no_outliers, parse_dates=['sale_date'])"
   ]
  },
  {
   "cell_type": "code",
   "execution_count": 7,
   "metadata": {},
   "outputs": [
    {
     "name": "stdout",
     "output_type": "stream",
     "text": [
      "<class 'pandas.core.frame.DataFrame'>\n",
      "RangeIndex: 28302 entries, 0 to 28301\n",
      "Data columns (total 20 columns):\n",
      " #   Column           Non-Null Count  Dtype         \n",
      "---  ------           --------------  -----         \n",
      " 0   project_name     28302 non-null  object        \n",
      " 1   street           28302 non-null  object        \n",
      " 2   postal_district  28302 non-null  int64         \n",
      " 3   sale_type        28302 non-null  object        \n",
      " 4   area_type        28302 non-null  object        \n",
      " 5   property_type    28302 non-null  object        \n",
      " 6   tenure_type      28302 non-null  object        \n",
      " 7   mkt_segment      28302 non-null  object        \n",
      " 8   sale_month       28302 non-null  int64         \n",
      " 9   sale_year        28302 non-null  int64         \n",
      " 10  sale_date        28302 non-null  datetime64[ns]\n",
      " 11  floor_level      28302 non-null  float64       \n",
      " 12  max_floor        28302 non-null  float64       \n",
      " 13  area_sqft        28302 non-null  float64       \n",
      " 14  lat              28302 non-null  float64       \n",
      " 15  price_total      28302 non-null  float64       \n",
      " 16  lon              28302 non-null  float64       \n",
      " 17  lat_adj          28302 non-null  float64       \n",
      " 18  lon_adj          28302 non-null  float64       \n",
      " 19  price_sqft       28302 non-null  float64       \n",
      "dtypes: datetime64[ns](1), float64(9), int64(3), object(7)\n",
      "memory usage: 4.3+ MB\n"
     ]
    }
   ],
   "source": [
    "df.info()"
   ]
  },
  {
   "cell_type": "markdown",
   "metadata": {},
   "source": [
    "##### Regression on variables excluding project_name and street"
   ]
  },
  {
   "cell_type": "code",
   "execution_count": 68,
   "metadata": {},
   "outputs": [],
   "source": [
    "df_clean = df.drop(columns=['project_name', 'street', 'area_type', 'tenure_type', \n",
    "                            'sale_date', 'lat', 'lon', 'price_total' ])\n",
    "dataset_1 = df_clean"
   ]
  },
  {
   "cell_type": "code",
   "execution_count": 69,
   "metadata": {},
   "outputs": [
    {
     "name": "stdout",
     "output_type": "stream",
     "text": [
      "<class 'pandas.core.frame.DataFrame'>\n",
      "RangeIndex: 28302 entries, 0 to 28301\n",
      "Data columns (total 12 columns):\n",
      " #   Column           Non-Null Count  Dtype  \n",
      "---  ------           --------------  -----  \n",
      " 0   postal_district  28302 non-null  int64  \n",
      " 1   sale_type        28302 non-null  object \n",
      " 2   property_type    28302 non-null  object \n",
      " 3   mkt_segment      28302 non-null  object \n",
      " 4   sale_month       28302 non-null  int64  \n",
      " 5   sale_year        28302 non-null  int64  \n",
      " 6   floor_level      28302 non-null  float64\n",
      " 7   max_floor        28302 non-null  float64\n",
      " 8   area_sqft        28302 non-null  float64\n",
      " 9   lat_adj          28302 non-null  float64\n",
      " 10  lon_adj          28302 non-null  float64\n",
      " 11  price_sqft       28302 non-null  float64\n",
      "dtypes: float64(6), int64(3), object(3)\n",
      "memory usage: 2.6+ MB\n"
     ]
    }
   ],
   "source": [
    "dataset_1.info()"
   ]
  },
  {
   "cell_type": "code",
   "execution_count": 70,
   "metadata": {},
   "outputs": [],
   "source": [
    "dataset_1 = dataset_1.values"
   ]
  },
  {
   "cell_type": "code",
   "execution_count": 71,
   "metadata": {},
   "outputs": [],
   "source": [
    "X = dataset_1[:, :-1]\n",
    "y = dataset_1[:, -1]"
   ]
  },
  {
   "cell_type": "code",
   "execution_count": null,
   "metadata": {},
   "outputs": [],
   "source": []
  },
  {
   "cell_type": "markdown",
   "metadata": {},
   "source": [
    "##### Categorical columns"
   ]
  },
  {
   "cell_type": "code",
   "execution_count": 58,
   "metadata": {},
   "outputs": [],
   "source": [
    "from sklearn.preprocessing import OneHotEncoder\n",
    "from sklearn.compose import ColumnTransformer"
   ]
  },
  {
   "cell_type": "code",
   "execution_count": 72,
   "metadata": {},
   "outputs": [],
   "source": [
    "ct = ColumnTransformer(transformers=[('encoder', OneHotEncoder(), [0, 1, 2, 3 , 4, 5])], \n",
    "                       remainder='passthrough')"
   ]
  },
  {
   "cell_type": "code",
   "execution_count": 73,
   "metadata": {},
   "outputs": [],
   "source": [
    "X = ct.fit_transform(X).toarray()"
   ]
  },
  {
   "cell_type": "markdown",
   "metadata": {},
   "source": [
    "### Entire dataset approach"
   ]
  },
  {
   "cell_type": "markdown",
   "metadata": {},
   "source": [
    "##### Split training and test set"
   ]
  },
  {
   "cell_type": "code",
   "execution_count": 74,
   "metadata": {},
   "outputs": [],
   "source": [
    "from sklearn.model_selection import train_test_split"
   ]
  },
  {
   "cell_type": "code",
   "execution_count": 75,
   "metadata": {},
   "outputs": [],
   "source": [
    "X_train, X_test, y_train, y_test = train_test_split(X, y, train_size = TRAIN_SIZE)"
   ]
  },
  {
   "cell_type": "code",
   "execution_count": null,
   "metadata": {},
   "outputs": [],
   "source": []
  },
  {
   "cell_type": "markdown",
   "metadata": {},
   "source": [
    "##### Feature scaling"
   ]
  },
  {
   "cell_type": "code",
   "execution_count": 76,
   "metadata": {},
   "outputs": [],
   "source": [
    "from sklearn.preprocessing import StandardScaler"
   ]
  },
  {
   "cell_type": "code",
   "execution_count": 77,
   "metadata": {},
   "outputs": [],
   "source": [
    "sc = StandardScaler()"
   ]
  },
  {
   "cell_type": "code",
   "execution_count": 78,
   "metadata": {},
   "outputs": [],
   "source": [
    "X_train[:, -5:] = sc.fit_transform(X_train[:, -5:])"
   ]
  },
  {
   "cell_type": "code",
   "execution_count": 79,
   "metadata": {},
   "outputs": [],
   "source": [
    "X_test[:, -5:] = sc.transform(X_test[:, -5:])"
   ]
  },
  {
   "cell_type": "code",
   "execution_count": 80,
   "metadata": {},
   "outputs": [],
   "source": [
    "#save backup\n",
    "X_train_copy = X_train.copy()\n",
    "X_test_copy = X_test.copy()\n",
    "y_train_copy = y_train.copy()\n",
    "y_test_copy = y_test.copy()"
   ]
  },
  {
   "cell_type": "code",
   "execution_count": null,
   "metadata": {},
   "outputs": [],
   "source": []
  },
  {
   "cell_type": "markdown",
   "metadata": {},
   "source": [
    "#### Regression models"
   ]
  },
  {
   "cell_type": "code",
   "execution_count": 81,
   "metadata": {},
   "outputs": [],
   "source": [
    "from sklearn.tree import DecisionTreeRegressor\n",
    "from sklearn.ensemble import RandomForestRegressor\n",
    "from sklearn.metrics import r2_score"
   ]
  },
  {
   "cell_type": "code",
   "execution_count": null,
   "metadata": {},
   "outputs": [],
   "source": []
  },
  {
   "cell_type": "markdown",
   "metadata": {},
   "source": [
    "##### Decision tree"
   ]
  },
  {
   "cell_type": "code",
   "execution_count": 82,
   "metadata": {},
   "outputs": [],
   "source": [
    "tree_1 = DecisionTreeRegressor()\n",
    "tree_1.fit(X_train, y_train)\n",
    "y_pred_tree_1 = tree_1.predict(X_test)"
   ]
  },
  {
   "cell_type": "code",
   "execution_count": 83,
   "metadata": {},
   "outputs": [
    {
     "data": {
      "text/plain": [
       "0.9351191281777256"
      ]
     },
     "execution_count": 83,
     "metadata": {},
     "output_type": "execute_result"
    }
   ],
   "source": [
    "r2_score(y_test, y_pred_tree_1)"
   ]
  },
  {
   "cell_type": "code",
   "execution_count": null,
   "metadata": {},
   "outputs": [],
   "source": []
  },
  {
   "cell_type": "markdown",
   "metadata": {},
   "source": [
    "##### Random forest"
   ]
  },
  {
   "cell_type": "code",
   "execution_count": 84,
   "metadata": {},
   "outputs": [],
   "source": [
    "forest_1 = RandomForestRegressor()\n",
    "forest_1.fit(X_train, y_train)\n",
    "y_pred_forest_1 = forest_1.predict(X_test)"
   ]
  },
  {
   "cell_type": "code",
   "execution_count": 85,
   "metadata": {},
   "outputs": [
    {
     "data": {
      "text/plain": [
       "0.9614501180802233"
      ]
     },
     "execution_count": 85,
     "metadata": {},
     "output_type": "execute_result"
    }
   ],
   "source": [
    "r2_score(y_test, y_pred_forest_1)"
   ]
  },
  {
   "cell_type": "code",
   "execution_count": null,
   "metadata": {},
   "outputs": [],
   "source": []
  },
  {
   "cell_type": "markdown",
   "metadata": {},
   "source": [
    "### Time-split approach"
   ]
  },
  {
   "cell_type": "code",
   "execution_count": 86,
   "metadata": {},
   "outputs": [
    {
     "name": "stdout",
     "output_type": "stream",
     "text": [
      "<class 'pandas.core.frame.DataFrame'>\n",
      "RangeIndex: 28302 entries, 0 to 28301\n",
      "Data columns (total 12 columns):\n",
      " #   Column           Non-Null Count  Dtype  \n",
      "---  ------           --------------  -----  \n",
      " 0   postal_district  28302 non-null  int64  \n",
      " 1   sale_type        28302 non-null  object \n",
      " 2   property_type    28302 non-null  object \n",
      " 3   mkt_segment      28302 non-null  object \n",
      " 4   sale_month       28302 non-null  int64  \n",
      " 5   sale_year        28302 non-null  int64  \n",
      " 6   floor_level      28302 non-null  float64\n",
      " 7   max_floor        28302 non-null  float64\n",
      " 8   area_sqft        28302 non-null  float64\n",
      " 9   lat_adj          28302 non-null  float64\n",
      " 10  lon_adj          28302 non-null  float64\n",
      " 11  price_sqft       28302 non-null  float64\n",
      "dtypes: float64(6), int64(3), object(3)\n",
      "memory usage: 2.6+ MB\n"
     ]
    }
   ],
   "source": [
    "df_clean.info()"
   ]
  },
  {
   "cell_type": "code",
   "execution_count": 87,
   "metadata": {},
   "outputs": [],
   "source": [
    "dataset_2_train = df_clean[df_clean.sale_year == 2022].drop(columns=['sale_year']).values\n",
    "dataset_2_test = df_clean[df_clean.sale_year == 2023].drop(columns=['sale_year']).values\n",
    "X_train_2 = dataset_2_train[:, :-1]\n",
    "y_train_2 = dataset_2_train[:, -1]\n",
    "X_test_2 = dataset_2_test[:, :-1]\n",
    "y_test_2 = dataset_2_test[:, -1]"
   ]
  },
  {
   "cell_type": "markdown",
   "metadata": {},
   "source": [
    "#### Feature scaling and column transforming"
   ]
  },
  {
   "cell_type": "code",
   "execution_count": 88,
   "metadata": {},
   "outputs": [],
   "source": [
    "# one column less, as sale_year column is removed\n",
    "ct = ColumnTransformer(transformers=[('encoder', OneHotEncoder(), [0, 1, 2, 3 , 4, 5])], \n",
    "                       remainder='passthrough')\n",
    "X_train_2 = ct.fit_transform(X_train_2).toarray()\n",
    "X_test_2 = ct.transform(X_test_2).toarray()"
   ]
  },
  {
   "cell_type": "code",
   "execution_count": 89,
   "metadata": {},
   "outputs": [],
   "source": [
    "sc_2 = StandardScaler()\n",
    "X_train_2[:, -5:] = sc_2.fit_transform(X_train_2[:, -5:])\n",
    "X_test_2[:, -5:] = sc_2.transform(X_test_2[:, -5:])"
   ]
  },
  {
   "cell_type": "markdown",
   "metadata": {},
   "source": [
    "#### Regression models"
   ]
  },
  {
   "cell_type": "code",
   "execution_count": 90,
   "metadata": {},
   "outputs": [],
   "source": [
    "tree_2 = DecisionTreeRegressor()\n",
    "tree_2.fit(X_train_2, y_train_2)\n",
    "y_pred_2 = tree_2.predict(X_test_2)"
   ]
  },
  {
   "cell_type": "code",
   "execution_count": 91,
   "metadata": {},
   "outputs": [
    {
     "data": {
      "text/plain": [
       "0.7224667595875356"
      ]
     },
     "execution_count": 91,
     "metadata": {},
     "output_type": "execute_result"
    }
   ],
   "source": [
    "r2_score(y_test_2, y_pred_2)"
   ]
  },
  {
   "cell_type": "code",
   "execution_count": null,
   "metadata": {},
   "outputs": [],
   "source": []
  },
  {
   "cell_type": "code",
   "execution_count": 92,
   "metadata": {},
   "outputs": [],
   "source": [
    "forest_2 = RandomForestRegressor()\n",
    "forest_2.fit(X_train_2, y_train_2)\n",
    "y_pred_forest_2 = forest_2.predict(X_test_2)"
   ]
  },
  {
   "cell_type": "code",
   "execution_count": 93,
   "metadata": {},
   "outputs": [
    {
     "data": {
      "text/plain": [
       "0.8144938980431243"
      ]
     },
     "execution_count": 93,
     "metadata": {},
     "output_type": "execute_result"
    }
   ],
   "source": [
    "r2_score(y_test_2, y_pred_forest_2)"
   ]
  },
  {
   "cell_type": "markdown",
   "metadata": {},
   "source": [
    "### Conclusion\n",
    "- As expected, using year_1 data for training and year_2 data for testing is less efficient, because we are effectively loosing the information about the year. \n",
    "- However, the predictions are still quite high, meaning that overall the model is robust and we can use the entire dataset model"
   ]
  },
  {
   "cell_type": "code",
   "execution_count": null,
   "metadata": {},
   "outputs": [],
   "source": []
  },
  {
   "cell_type": "markdown",
   "metadata": {},
   "source": [
    "### PCA approach"
   ]
  },
  {
   "cell_type": "code",
   "execution_count": 102,
   "metadata": {},
   "outputs": [],
   "source": [
    "from sklearn.decomposition import PCA"
   ]
  },
  {
   "cell_type": "code",
   "execution_count": 103,
   "metadata": {},
   "outputs": [
    {
     "name": "stdout",
     "output_type": "stream",
     "text": [
      "<class 'pandas.core.frame.DataFrame'>\n",
      "RangeIndex: 28302 entries, 0 to 28301\n",
      "Data columns (total 20 columns):\n",
      " #   Column           Non-Null Count  Dtype         \n",
      "---  ------           --------------  -----         \n",
      " 0   project_name     28302 non-null  object        \n",
      " 1   street           28302 non-null  object        \n",
      " 2   postal_district  28302 non-null  int64         \n",
      " 3   sale_type        28302 non-null  object        \n",
      " 4   area_type        28302 non-null  object        \n",
      " 5   property_type    28302 non-null  object        \n",
      " 6   tenure_type      28302 non-null  object        \n",
      " 7   mkt_segment      28302 non-null  object        \n",
      " 8   sale_month       28302 non-null  int64         \n",
      " 9   sale_year        28302 non-null  int64         \n",
      " 10  sale_date        28302 non-null  datetime64[ns]\n",
      " 11  floor_level      28302 non-null  float64       \n",
      " 12  max_floor        28302 non-null  float64       \n",
      " 13  area_sqft        28302 non-null  float64       \n",
      " 14  lat              28302 non-null  float64       \n",
      " 15  price_total      28302 non-null  float64       \n",
      " 16  lon              28302 non-null  float64       \n",
      " 17  lat_adj          28302 non-null  float64       \n",
      " 18  lon_adj          28302 non-null  float64       \n",
      " 19  price_sqft       28302 non-null  float64       \n",
      "dtypes: datetime64[ns](1), float64(9), int64(3), object(7)\n",
      "memory usage: 4.3+ MB\n"
     ]
    }
   ],
   "source": [
    "df.info()"
   ]
  },
  {
   "cell_type": "code",
   "execution_count": 104,
   "metadata": {},
   "outputs": [],
   "source": [
    "df_pca = df.drop(columns=['sale_date', 'area_type', 'tenure_type', 'sale_date', 'lat', 'lon', 'price_total'])"
   ]
  },
  {
   "cell_type": "code",
   "execution_count": 105,
   "metadata": {},
   "outputs": [
    {
     "name": "stdout",
     "output_type": "stream",
     "text": [
      "<class 'pandas.core.frame.DataFrame'>\n",
      "RangeIndex: 28302 entries, 0 to 28301\n",
      "Data columns (total 14 columns):\n",
      " #   Column           Non-Null Count  Dtype  \n",
      "---  ------           --------------  -----  \n",
      " 0   project_name     28302 non-null  object \n",
      " 1   street           28302 non-null  object \n",
      " 2   postal_district  28302 non-null  int64  \n",
      " 3   sale_type        28302 non-null  object \n",
      " 4   property_type    28302 non-null  object \n",
      " 5   mkt_segment      28302 non-null  object \n",
      " 6   sale_month       28302 non-null  int64  \n",
      " 7   sale_year        28302 non-null  int64  \n",
      " 8   floor_level      28302 non-null  float64\n",
      " 9   max_floor        28302 non-null  float64\n",
      " 10  area_sqft        28302 non-null  float64\n",
      " 11  lat_adj          28302 non-null  float64\n",
      " 12  lon_adj          28302 non-null  float64\n",
      " 13  price_sqft       28302 non-null  float64\n",
      "dtypes: float64(6), int64(3), object(5)\n",
      "memory usage: 3.0+ MB\n"
     ]
    }
   ],
   "source": [
    "df_pca.info()"
   ]
  },
  {
   "cell_type": "markdown",
   "metadata": {},
   "source": [
    "#### Column encoding"
   ]
  },
  {
   "cell_type": "code",
   "execution_count": 106,
   "metadata": {},
   "outputs": [],
   "source": [
    "dataset_pca = df_pca.values\n",
    "X_pca = dataset_pca[:, :-1]\n",
    "y_pca = dataset_pca[:, -1]"
   ]
  },
  {
   "cell_type": "code",
   "execution_count": 107,
   "metadata": {},
   "outputs": [],
   "source": [
    "columns_to_transform = [0, 1, 2, 3 , 4, 5, 6, 7]\n",
    "ct = ColumnTransformer(transformers=[('encoder', OneHotEncoder(), columns_to_transform)], \n",
    "                       remainder='passthrough')\n",
    "X_pca_ct = ct.fit_transform(X_pca).toarray()"
   ]
  },
  {
   "cell_type": "markdown",
   "metadata": {},
   "source": [
    "#### Train_test split"
   ]
  },
  {
   "cell_type": "code",
   "execution_count": 108,
   "metadata": {},
   "outputs": [],
   "source": [
    "X_train_pca, X_test_pca, y_train_pca, y_test_pca = train_test_split(X_pca_ct, y_pca, train_size=TRAIN_SIZE)"
   ]
  },
  {
   "cell_type": "markdown",
   "metadata": {},
   "source": [
    "#### Feature scaling"
   ]
  },
  {
   "cell_type": "code",
   "execution_count": 109,
   "metadata": {},
   "outputs": [],
   "source": [
    "#train\n",
    "sc_pca = StandardScaler()\n",
    "X_train_pca[:, -5:] = sc_pca.fit_transform(X_train_pca[:, -5:])\n",
    "\n",
    "#test\n",
    "X_test_pca[:, -5:] = sc_pca.transform(X_test_pca[:, -5:])"
   ]
  },
  {
   "cell_type": "code",
   "execution_count": null,
   "metadata": {},
   "outputs": [],
   "source": []
  },
  {
   "cell_type": "markdown",
   "metadata": {},
   "source": [
    "#### Running PCA"
   ]
  },
  {
   "cell_type": "code",
   "execution_count": 133,
   "metadata": {},
   "outputs": [],
   "source": [
    "#train\n",
    "pca = PCA(n_components=40)\n",
    "X_train_pca_transformed = pca.fit_transform(X_train_pca)"
   ]
  },
  {
   "cell_type": "code",
   "execution_count": 134,
   "metadata": {},
   "outputs": [
    {
     "data": {
      "text/plain": [
       "array([0.19167108, 0.30173745, 0.39729581, 0.47525749, 0.5168095 ,\n",
       "       0.55256919, 0.58656329, 0.61026421, 0.6331939 , 0.65069086,\n",
       "       0.66559063, 0.67914876, 0.69104127, 0.70210756, 0.7120521 ,\n",
       "       0.72056726, 0.72893937, 0.73713217, 0.74507588, 0.75285695,\n",
       "       0.76058627, 0.76810406, 0.77544301, 0.78258261, 0.78909475,\n",
       "       0.79554238, 0.80163935, 0.8075566 , 0.81283842, 0.81711436,\n",
       "       0.8211643 , 0.82489139, 0.82822321, 0.83127071, 0.83394199,\n",
       "       0.83652181, 0.83889989, 0.84104544, 0.84307908, 0.84506564])"
      ]
     },
     "execution_count": 134,
     "metadata": {},
     "output_type": "execute_result"
    }
   ],
   "source": [
    "#increasing the number of components until explained variance is 85%. After that the increase becomes really low\n",
    "pca.explained_variance_ratio_.cumsum()"
   ]
  },
  {
   "cell_type": "code",
   "execution_count": 135,
   "metadata": {},
   "outputs": [],
   "source": [
    "#test\n",
    "X_test_pca_transformed = pca.transform(X_test_pca)"
   ]
  },
  {
   "cell_type": "code",
   "execution_count": null,
   "metadata": {},
   "outputs": [],
   "source": []
  },
  {
   "cell_type": "markdown",
   "metadata": {},
   "source": [
    "#### Regression models on PCA"
   ]
  },
  {
   "cell_type": "markdown",
   "metadata": {},
   "source": [
    "##### Linear regression"
   ]
  },
  {
   "cell_type": "code",
   "execution_count": 136,
   "metadata": {},
   "outputs": [],
   "source": [
    "from sklearn.linear_model import LinearRegression"
   ]
  },
  {
   "cell_type": "code",
   "execution_count": 137,
   "metadata": {},
   "outputs": [],
   "source": [
    "lr_pca = LinearRegression()"
   ]
  },
  {
   "cell_type": "code",
   "execution_count": 138,
   "metadata": {},
   "outputs": [
    {
     "data": {
      "text/plain": [
       "LinearRegression()"
      ]
     },
     "execution_count": 138,
     "metadata": {},
     "output_type": "execute_result"
    }
   ],
   "source": [
    "lr_pca.fit(X_train_pca_transformed, y_train_pca)"
   ]
  },
  {
   "cell_type": "code",
   "execution_count": 139,
   "metadata": {},
   "outputs": [],
   "source": [
    "y_pred_lr_pca = lr_pca.predict(X_test_pca_transformed)"
   ]
  },
  {
   "cell_type": "code",
   "execution_count": 140,
   "metadata": {},
   "outputs": [
    {
     "data": {
      "text/plain": [
       "0.8007135227111963"
      ]
     },
     "execution_count": 140,
     "metadata": {},
     "output_type": "execute_result"
    }
   ],
   "source": [
    "r2_score(y_test_pca, y_pred_lr_pca)"
   ]
  },
  {
   "cell_type": "markdown",
   "metadata": {},
   "source": [
    "Comment:\n",
    "- Although the original data contained significant non-linearity, Linear model can be used with PCA"
   ]
  },
  {
   "cell_type": "markdown",
   "metadata": {},
   "source": [
    "##### Decision tree"
   ]
  },
  {
   "cell_type": "code",
   "execution_count": 141,
   "metadata": {},
   "outputs": [
    {
     "data": {
      "text/plain": [
       "0.8101643688979822"
      ]
     },
     "execution_count": 141,
     "metadata": {},
     "output_type": "execute_result"
    }
   ],
   "source": [
    "tree_pca = DecisionTreeRegressor()\n",
    "tree_pca.fit(X_train_pca_transformed, y_train_pca)\n",
    "y_pred_tree_pca = tree_pca.predict(X_test_pca_transformed)\n",
    "r2_score(y_test_pca, y_pred_tree_pca)"
   ]
  },
  {
   "cell_type": "markdown",
   "metadata": {},
   "source": [
    "##### Random forest"
   ]
  },
  {
   "cell_type": "code",
   "execution_count": 142,
   "metadata": {},
   "outputs": [
    {
     "data": {
      "text/plain": [
       "0.9083579771420061"
      ]
     },
     "execution_count": 142,
     "metadata": {},
     "output_type": "execute_result"
    }
   ],
   "source": [
    "forest_pca = RandomForestRegressor()\n",
    "forest_pca.fit(X_train_pca_transformed, y_train_pca)\n",
    "y_pred_forest_pca = forest_pca.predict(X_test_pca_transformed)\n",
    "r2_score(y_test_pca, y_pred_forest_pca)"
   ]
  },
  {
   "cell_type": "code",
   "execution_count": null,
   "metadata": {},
   "outputs": [],
   "source": []
  },
  {
   "cell_type": "markdown",
   "metadata": {},
   "source": [
    "### Artificial Neural Network"
   ]
  },
  {
   "cell_type": "markdown",
   "metadata": {},
   "source": [
    "##### Preparing the dataset"
   ]
  },
  {
   "cell_type": "code",
   "execution_count": 143,
   "metadata": {},
   "outputs": [],
   "source": [
    "df_ann = df_pca.copy()"
   ]
  },
  {
   "cell_type": "code",
   "execution_count": 144,
   "metadata": {},
   "outputs": [
    {
     "name": "stdout",
     "output_type": "stream",
     "text": [
      "<class 'pandas.core.frame.DataFrame'>\n",
      "RangeIndex: 28302 entries, 0 to 28301\n",
      "Data columns (total 14 columns):\n",
      " #   Column           Non-Null Count  Dtype  \n",
      "---  ------           --------------  -----  \n",
      " 0   project_name     28302 non-null  object \n",
      " 1   street           28302 non-null  object \n",
      " 2   postal_district  28302 non-null  int64  \n",
      " 3   sale_type        28302 non-null  object \n",
      " 4   property_type    28302 non-null  object \n",
      " 5   mkt_segment      28302 non-null  object \n",
      " 6   sale_month       28302 non-null  int64  \n",
      " 7   sale_year        28302 non-null  int64  \n",
      " 8   floor_level      28302 non-null  float64\n",
      " 9   max_floor        28302 non-null  float64\n",
      " 10  area_sqft        28302 non-null  float64\n",
      " 11  lat_adj          28302 non-null  float64\n",
      " 12  lon_adj          28302 non-null  float64\n",
      " 13  price_sqft       28302 non-null  float64\n",
      "dtypes: float64(6), int64(3), object(5)\n",
      "memory usage: 3.0+ MB\n"
     ]
    }
   ],
   "source": [
    "df_ann.info()"
   ]
  },
  {
   "cell_type": "code",
   "execution_count": 145,
   "metadata": {},
   "outputs": [],
   "source": [
    "dataset_ann = df_ann.values\n",
    "X_ann = dataset_ann[:, :-1]\n",
    "y_ann = dataset_ann[:, -1].astype('float32')"
   ]
  },
  {
   "cell_type": "code",
   "execution_count": 146,
   "metadata": {},
   "outputs": [
    {
     "data": {
      "text/plain": [
       "dtype('float32')"
      ]
     },
     "execution_count": 146,
     "metadata": {},
     "output_type": "execute_result"
    }
   ],
   "source": [
    "y_ann.dtype"
   ]
  },
  {
   "cell_type": "markdown",
   "metadata": {},
   "source": [
    "##### Encoding categorical columns"
   ]
  },
  {
   "cell_type": "code",
   "execution_count": 147,
   "metadata": {},
   "outputs": [],
   "source": [
    "columns_to_transform = [0, 1, 2, 3 , 4, 5, 6, 7]\n",
    "ct = ColumnTransformer(transformers=[('encoder', OneHotEncoder(), columns_to_transform)], \n",
    "                       remainder='passthrough')\n",
    "X_ann = ct.fit_transform(X_ann).toarray().astype('float32')"
   ]
  },
  {
   "cell_type": "code",
   "execution_count": 148,
   "metadata": {},
   "outputs": [],
   "source": [
    "X_train_ann, X_test_ann, y_train_ann, y_test_ann = train_test_split(X_ann, y_ann, train_size=TRAIN_SIZE)"
   ]
  },
  {
   "cell_type": "code",
   "execution_count": 149,
   "metadata": {},
   "outputs": [],
   "source": [
    "sc_ann = StandardScaler()\n",
    "X_train_ann = sc_ann.fit_transform(X_train_ann)\n",
    "X_test_ann = sc_ann.transform(X_test_ann)"
   ]
  },
  {
   "cell_type": "code",
   "execution_count": 150,
   "metadata": {},
   "outputs": [
    {
     "data": {
      "text/plain": [
       "dtype('float32')"
      ]
     },
     "execution_count": 150,
     "metadata": {},
     "output_type": "execute_result"
    }
   ],
   "source": [
    "y_train_ann.dtype"
   ]
  },
  {
   "cell_type": "markdown",
   "metadata": {},
   "source": [
    "##### ANN"
   ]
  },
  {
   "cell_type": "code",
   "execution_count": 151,
   "metadata": {},
   "outputs": [],
   "source": [
    "import tensorflow as tf\n",
    "from tensorflow.keras.metrics import MeanSquaredError"
   ]
  },
  {
   "cell_type": "code",
   "execution_count": 152,
   "metadata": {},
   "outputs": [],
   "source": [
    "ann = tf.keras.models.Sequential()"
   ]
  },
  {
   "cell_type": "code",
   "execution_count": 153,
   "metadata": {},
   "outputs": [],
   "source": [
    "#Adding layers\n",
    "ann.add(tf.keras.layers.Input(shape=(X_train_ann.shape[1])))\n",
    "ann.add(tf.keras.layers.Dense(512, activation='relu'))  \n",
    "ann.add(tf.keras.layers.Dense(256, activation='relu'))\n",
    "ann.add(tf.keras.layers.Dense(128, activation='relu'))\n",
    "ann.add(tf.keras.layers.Dense(1))"
   ]
  },
  {
   "cell_type": "code",
   "execution_count": 154,
   "metadata": {},
   "outputs": [],
   "source": [
    "ann.compile(optimizer = 'adam', loss = 'mean_squared_error', metrics = [MeanSquaredError()])"
   ]
  },
  {
   "cell_type": "code",
   "execution_count": 155,
   "metadata": {},
   "outputs": [
    {
     "name": "stdout",
     "output_type": "stream",
     "text": [
      "Epoch 1/100\n",
      "620/620 [==============================] - 6s 8ms/step - loss: 428344.4688 - mean_squared_error: 428344.4688\n",
      "Epoch 2/100\n",
      "620/620 [==============================] - 5s 8ms/step - loss: 58809.6445 - mean_squared_error: 58809.6445\n",
      "Epoch 3/100\n",
      "620/620 [==============================] - 5s 8ms/step - loss: 38579.2422 - mean_squared_error: 38579.2422\n",
      "Epoch 4/100\n",
      "620/620 [==============================] - 5s 8ms/step - loss: 32761.2480 - mean_squared_error: 32761.2480\n",
      "Epoch 5/100\n",
      "620/620 [==============================] - 5s 8ms/step - loss: 29005.5137 - mean_squared_error: 29005.5137\n",
      "Epoch 6/100\n",
      "620/620 [==============================] - 5s 9ms/step - loss: 28028.4180 - mean_squared_error: 28028.4180\n",
      "Epoch 7/100\n",
      "620/620 [==============================] - 5s 9ms/step - loss: 26611.7070 - mean_squared_error: 26611.7070\n",
      "Epoch 8/100\n",
      "620/620 [==============================] - 6s 9ms/step - loss: 25160.3066 - mean_squared_error: 25160.3066\n",
      "Epoch 9/100\n",
      "620/620 [==============================] - 5s 9ms/step - loss: 24763.0898 - mean_squared_error: 24763.0898\n",
      "Epoch 10/100\n",
      "620/620 [==============================] - 5s 9ms/step - loss: 22891.0410 - mean_squared_error: 22891.0410\n",
      "Epoch 11/100\n",
      "620/620 [==============================] - 5s 9ms/step - loss: 22761.1406 - mean_squared_error: 22761.1406\n",
      "Epoch 12/100\n",
      "620/620 [==============================] - 5s 9ms/step - loss: 20802.8555 - mean_squared_error: 20802.8555\n",
      "Epoch 13/100\n",
      "620/620 [==============================] - 5s 8ms/step - loss: 20125.9570 - mean_squared_error: 20125.9570\n",
      "Epoch 14/100\n",
      "620/620 [==============================] - 5s 9ms/step - loss: 19034.5684 - mean_squared_error: 19034.5684\n",
      "Epoch 15/100\n",
      "620/620 [==============================] - 5s 9ms/step - loss: 18500.7383 - mean_squared_error: 18500.7383\n",
      "Epoch 16/100\n",
      "620/620 [==============================] - 5s 8ms/step - loss: 18303.3691 - mean_squared_error: 18303.3691\n",
      "Epoch 17/100\n",
      "620/620 [==============================] - 5s 9ms/step - loss: 17024.2656 - mean_squared_error: 17024.2656\n",
      "Epoch 18/100\n",
      "620/620 [==============================] - 5s 9ms/step - loss: 16675.5840 - mean_squared_error: 16675.5840\n",
      "Epoch 19/100\n",
      "620/620 [==============================] - 5s 8ms/step - loss: 16078.0801 - mean_squared_error: 16078.0801\n",
      "Epoch 20/100\n",
      "620/620 [==============================] - 5s 9ms/step - loss: 15706.4502 - mean_squared_error: 15706.4502\n",
      "Epoch 21/100\n",
      "620/620 [==============================] - 5s 8ms/step - loss: 15106.3857 - mean_squared_error: 15106.3857\n",
      "Epoch 22/100\n",
      "620/620 [==============================] - 5s 9ms/step - loss: 14701.9590 - mean_squared_error: 14701.9590\n",
      "Epoch 23/100\n",
      "620/620 [==============================] - 5s 8ms/step - loss: 14584.1270 - mean_squared_error: 14584.1270\n",
      "Epoch 24/100\n",
      "620/620 [==============================] - 5s 9ms/step - loss: 13960.5176 - mean_squared_error: 13960.5176\n",
      "Epoch 25/100\n",
      "620/620 [==============================] - 5s 8ms/step - loss: 13750.2324 - mean_squared_error: 13750.2324\n",
      "Epoch 26/100\n",
      "620/620 [==============================] - 5s 9ms/step - loss: 13148.9258 - mean_squared_error: 13148.9258\n",
      "Epoch 27/100\n",
      "620/620 [==============================] - 5s 9ms/step - loss: 12922.3047 - mean_squared_error: 12922.3047\n",
      "Epoch 28/100\n",
      "620/620 [==============================] - 5s 9ms/step - loss: 12629.5449 - mean_squared_error: 12629.5449\n",
      "Epoch 29/100\n",
      "620/620 [==============================] - 5s 8ms/step - loss: 12118.6963 - mean_squared_error: 12118.6963: 0s - loss: 12049\n",
      "Epoch 30/100\n",
      "620/620 [==============================] - 5s 9ms/step - loss: 11942.8682 - mean_squared_error: 11942.8682\n",
      "Epoch 31/100\n",
      "620/620 [==============================] - 5s 8ms/step - loss: 11698.8906 - mean_squared_error: 11698.8906\n",
      "Epoch 32/100\n",
      "620/620 [==============================] - 5s 9ms/step - loss: 11269.9561 - mean_squared_error: 11269.9561\n",
      "Epoch 33/100\n",
      "620/620 [==============================] - 5s 8ms/step - loss: 10951.1934 - mean_squared_error: 10951.1934\n",
      "Epoch 34/100\n",
      "620/620 [==============================] - 5s 8ms/step - loss: 10683.7783 - mean_squared_error: 10683.7783\n",
      "Epoch 35/100\n",
      "620/620 [==============================] - 5s 9ms/step - loss: 10374.0889 - mean_squared_error: 10374.0889: 0s - loss: 10506\n",
      "Epoch 36/100\n",
      "620/620 [==============================] - 5s 8ms/step - loss: 10209.5674 - mean_squared_error: 10209.5674\n",
      "Epoch 37/100\n",
      "620/620 [==============================] - 5s 9ms/step - loss: 10309.6641 - mean_squared_error: 10309.6641\n",
      "Epoch 38/100\n",
      "620/620 [==============================] - 5s 8ms/step - loss: 9888.1846 - mean_squared_error: 9888.1846\n",
      "Epoch 39/100\n",
      "620/620 [==============================] - 5s 9ms/step - loss: 9162.3906 - mean_squared_error: 9162.3906\n",
      "Epoch 40/100\n",
      "620/620 [==============================] - 5s 8ms/step - loss: 9284.6416 - mean_squared_error: 9284.6416\n",
      "Epoch 41/100\n",
      "620/620 [==============================] - 5s 8ms/step - loss: 9179.2422 - mean_squared_error: 9179.2422\n",
      "Epoch 42/100\n",
      "620/620 [==============================] - 5s 9ms/step - loss: 8553.2197 - mean_squared_error: 8553.2197\n",
      "Epoch 43/100\n",
      "620/620 [==============================] - 5s 9ms/step - loss: 8779.1748 - mean_squared_error: 8779.1748\n",
      "Epoch 44/100\n",
      "620/620 [==============================] - 5s 9ms/step - loss: 8329.7598 - mean_squared_error: 8329.7598\n",
      "Epoch 45/100\n",
      "620/620 [==============================] - 5s 9ms/step - loss: 8563.9111 - mean_squared_error: 8563.9111\n",
      "Epoch 46/100\n",
      "620/620 [==============================] - 5s 9ms/step - loss: 8257.6865 - mean_squared_error: 8257.6865\n",
      "Epoch 47/100\n",
      "620/620 [==============================] - 5s 9ms/step - loss: 7995.4556 - mean_squared_error: 7995.4556\n",
      "Epoch 48/100\n",
      "620/620 [==============================] - 5s 8ms/step - loss: 7962.6777 - mean_squared_error: 7962.6777: 1s\n",
      "Epoch 49/100\n",
      "620/620 [==============================] - 5s 9ms/step - loss: 7919.0322 - mean_squared_error: 7919.0322\n",
      "Epoch 50/100\n",
      "620/620 [==============================] - 5s 9ms/step - loss: 7585.8618 - mean_squared_error: 7585.8618\n",
      "Epoch 51/100\n",
      "620/620 [==============================] - 5s 9ms/step - loss: 7283.7739 - mean_squared_error: 7283.7739\n",
      "Epoch 52/100\n",
      "620/620 [==============================] - 5s 9ms/step - loss: 7467.3789 - mean_squared_error: 7467.3789\n",
      "Epoch 53/100\n",
      "620/620 [==============================] - 5s 9ms/step - loss: 7555.1294 - mean_squared_error: 7555.1294\n",
      "Epoch 54/100\n",
      "620/620 [==============================] - 5s 9ms/step - loss: 7250.0820 - mean_squared_error: 7250.0820\n",
      "Epoch 55/100\n",
      "620/620 [==============================] - 5s 9ms/step - loss: 7033.3320 - mean_squared_error: 7033.3320\n",
      "Epoch 56/100\n",
      "620/620 [==============================] - 5s 9ms/step - loss: 7093.6729 - mean_squared_error: 7093.6729\n",
      "Epoch 57/100\n",
      "620/620 [==============================] - 5s 9ms/step - loss: 6945.0532 - mean_squared_error: 6945.0532: 0s - loss: 6924.\n",
      "Epoch 58/100\n",
      "620/620 [==============================] - 5s 9ms/step - loss: 6918.8560 - mean_squared_error: 6918.8560\n",
      "Epoch 59/100\n",
      "620/620 [==============================] - 5s 9ms/step - loss: 6682.2920 - mean_squared_error: 6682.2920\n",
      "Epoch 60/100\n",
      "620/620 [==============================] - 5s 9ms/step - loss: 6612.7158 - mean_squared_error: 6612.7158\n",
      "Epoch 61/100\n",
      "620/620 [==============================] - 5s 9ms/step - loss: 6600.8633 - mean_squared_error: 6600.8633\n",
      "Epoch 62/100\n",
      "620/620 [==============================] - 5s 9ms/step - loss: 6341.0679 - mean_squared_error: 6341.0679: 0s - loss: 6266.2671 - mean_square\n",
      "Epoch 63/100\n",
      "620/620 [==============================] - 5s 9ms/step - loss: 6345.4946 - mean_squared_error: 6345.4946\n",
      "Epoch 64/100\n",
      "620/620 [==============================] - 5s 9ms/step - loss: 6331.9507 - mean_squared_error: 6331.9507: 0s - loss: 6250.\n",
      "Epoch 65/100\n",
      "620/620 [==============================] - 5s 9ms/step - loss: 6249.3481 - mean_squared_error: 6249.3481\n",
      "Epoch 66/100\n",
      "620/620 [==============================] - 5s 9ms/step - loss: 6242.9932 - mean_squared_error: 6242.9932\n",
      "Epoch 67/100\n",
      "620/620 [==============================] - 5s 9ms/step - loss: 6198.7212 - mean_squared_error: 6198.7212\n",
      "Epoch 68/100\n"
     ]
    },
    {
     "name": "stdout",
     "output_type": "stream",
     "text": [
      "620/620 [==============================] - 5s 8ms/step - loss: 5964.0156 - mean_squared_error: 5964.0156\n",
      "Epoch 69/100\n",
      "620/620 [==============================] - 5s 8ms/step - loss: 6069.4131 - mean_squared_error: 6069.4131\n",
      "Epoch 70/100\n",
      "620/620 [==============================] - 5s 8ms/step - loss: 6126.0122 - mean_squared_error: 6126.0122\n",
      "Epoch 71/100\n",
      "620/620 [==============================] - 5s 8ms/step - loss: 5809.8755 - mean_squared_error: 5809.8755\n",
      "Epoch 72/100\n",
      "620/620 [==============================] - 5s 8ms/step - loss: 5693.2646 - mean_squared_error: 5693.2646\n",
      "Epoch 73/100\n",
      "620/620 [==============================] - 5s 8ms/step - loss: 5720.8281 - mean_squared_error: 5720.8281\n",
      "Epoch 74/100\n",
      "620/620 [==============================] - 5s 8ms/step - loss: 5651.9443 - mean_squared_error: 5651.9443\n",
      "Epoch 75/100\n",
      "620/620 [==============================] - 5s 8ms/step - loss: 5565.1929 - mean_squared_error: 5565.1929\n",
      "Epoch 76/100\n",
      "620/620 [==============================] - 5s 8ms/step - loss: 5653.8652 - mean_squared_error: 5653.8652\n",
      "Epoch 77/100\n",
      "620/620 [==============================] - 5s 8ms/step - loss: 5478.7261 - mean_squared_error: 5478.7261\n",
      "Epoch 78/100\n",
      "620/620 [==============================] - 5s 8ms/step - loss: 5414.1172 - mean_squared_error: 5414.1172\n",
      "Epoch 79/100\n",
      "620/620 [==============================] - 5s 8ms/step - loss: 5421.7632 - mean_squared_error: 5421.7632\n",
      "Epoch 80/100\n",
      "620/620 [==============================] - 5s 8ms/step - loss: 5501.8384 - mean_squared_error: 5501.8384\n",
      "Epoch 81/100\n",
      "620/620 [==============================] - 5s 8ms/step - loss: 5340.6001 - mean_squared_error: 5340.6001\n",
      "Epoch 82/100\n",
      "620/620 [==============================] - 5s 8ms/step - loss: 5160.3955 - mean_squared_error: 5160.3955\n",
      "Epoch 83/100\n",
      "620/620 [==============================] - 5s 8ms/step - loss: 5320.8384 - mean_squared_error: 5320.8384\n",
      "Epoch 84/100\n",
      "620/620 [==============================] - 5s 8ms/step - loss: 5084.1099 - mean_squared_error: 5084.1099\n",
      "Epoch 85/100\n",
      "620/620 [==============================] - 5s 8ms/step - loss: 5150.4331 - mean_squared_error: 5150.4331\n",
      "Epoch 86/100\n",
      "620/620 [==============================] - 5s 8ms/step - loss: 5117.1553 - mean_squared_error: 5117.1553\n",
      "Epoch 87/100\n",
      "620/620 [==============================] - 5s 8ms/step - loss: 5190.1587 - mean_squared_error: 5190.1587\n",
      "Epoch 88/100\n",
      "620/620 [==============================] - 5s 8ms/step - loss: 5076.3462 - mean_squared_error: 5076.3462\n",
      "Epoch 89/100\n",
      "620/620 [==============================] - 5s 8ms/step - loss: 5023.4502 - mean_squared_error: 5023.4502\n",
      "Epoch 90/100\n",
      "620/620 [==============================] - 5s 8ms/step - loss: 5004.9502 - mean_squared_error: 5004.9502\n",
      "Epoch 91/100\n",
      "620/620 [==============================] - 5s 8ms/step - loss: 4936.2910 - mean_squared_error: 4936.2910\n",
      "Epoch 92/100\n",
      "620/620 [==============================] - 5s 8ms/step - loss: 4920.0830 - mean_squared_error: 4920.0830\n",
      "Epoch 93/100\n",
      "620/620 [==============================] - 5s 8ms/step - loss: 4878.1196 - mean_squared_error: 4878.1196\n",
      "Epoch 94/100\n",
      "620/620 [==============================] - 5s 8ms/step - loss: 4688.7256 - mean_squared_error: 4688.7256\n",
      "Epoch 95/100\n",
      "620/620 [==============================] - 5s 8ms/step - loss: 4776.7700 - mean_squared_error: 4776.7700\n",
      "Epoch 96/100\n",
      "620/620 [==============================] - 5s 8ms/step - loss: 4671.1816 - mean_squared_error: 4671.1816\n",
      "Epoch 97/100\n",
      "620/620 [==============================] - 5s 8ms/step - loss: 4722.9097 - mean_squared_error: 4722.9097\n",
      "Epoch 98/100\n",
      "620/620 [==============================] - 5s 8ms/step - loss: 4716.5591 - mean_squared_error: 4716.5591\n",
      "Epoch 99/100\n",
      "620/620 [==============================] - 5s 8ms/step - loss: 4578.1201 - mean_squared_error: 4578.1201\n",
      "Epoch 100/100\n",
      "620/620 [==============================] - 5s 8ms/step - loss: 4570.7139 - mean_squared_error: 4570.7139\n"
     ]
    },
    {
     "data": {
      "text/plain": [
       "<keras.callbacks.History at 0x1697f5828>"
      ]
     },
     "execution_count": 155,
     "metadata": {},
     "output_type": "execute_result"
    }
   ],
   "source": [
    "#Training\n",
    "ann.fit(X_train_ann, y_train_ann, batch_size = 32, epochs = 100)"
   ]
  },
  {
   "cell_type": "code",
   "execution_count": null,
   "metadata": {},
   "outputs": [],
   "source": []
  },
  {
   "cell_type": "code",
   "execution_count": 156,
   "metadata": {},
   "outputs": [],
   "source": [
    "#Predicting"
   ]
  },
  {
   "cell_type": "code",
   "execution_count": 157,
   "metadata": {},
   "outputs": [],
   "source": [
    "y_pred_ann = ann.predict(X_test_ann)"
   ]
  },
  {
   "cell_type": "code",
   "execution_count": 158,
   "metadata": {},
   "outputs": [
    {
     "data": {
      "text/plain": [
       "0.9431106839699473"
      ]
     },
     "execution_count": 158,
     "metadata": {},
     "output_type": "execute_result"
    }
   ],
   "source": [
    "r2_score(y_test_ann, y_pred_ann)"
   ]
  },
  {
   "cell_type": "code",
   "execution_count": null,
   "metadata": {},
   "outputs": [],
   "source": []
  }
 ],
 "metadata": {
  "kernelspec": {
   "display_name": "Python 3",
   "language": "python",
   "name": "python3"
  },
  "language_info": {
   "codemirror_mode": {
    "name": "ipython",
    "version": 3
   },
   "file_extension": ".py",
   "mimetype": "text/x-python",
   "name": "python",
   "nbconvert_exporter": "python",
   "pygments_lexer": "ipython3",
   "version": "3.7.0"
  }
 },
 "nbformat": 4,
 "nbformat_minor": 2
}
